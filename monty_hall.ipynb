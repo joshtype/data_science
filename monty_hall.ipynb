{
  "nbformat": 4,
  "nbformat_minor": 0,
  "metadata": {
    "colab": {
      "provenance": []
    },
    "kernelspec": {
      "name": "python3",
      "display_name": "Python 3"
    },
    "language_info": {
      "name": "python"
    }
  },
  "cells": [
    {
      "cell_type": "code",
      "execution_count": null,
      "metadata": {
        "id": "-7ldgSCV5iuN"
      },
      "outputs": [],
      "source": [
        "# MONTY HALL PROBLEM"
      ]
    },
    {
      "cell_type": "code",
      "source": [
        "import numpy as np\n",
        "import random"
      ],
      "metadata": {
        "id": "ultd_VKv5lpQ"
      },
      "execution_count": null,
      "outputs": []
    },
    {
      "cell_type": "code",
      "source": [
        "def monty_hall(run_x_times: int) -> str:\n",
        "  sims = run_x_times\n",
        "  wins = 0\n",
        "  door_num = [\"1\", \"2\", \"3\"]\n",
        "  # run game run_sim number of times\n",
        "  for i in range(sims):\n",
        "    # randomly place the car behind a door\n",
        "    car = np.random.choice(door_num)\n",
        "    # randomly choose a door\n",
        "    guess1 = np.random.choice(door_num)\n",
        "    # create set of doors for host to be able to open\n",
        "    other_doors = set(door_num) - set([car, guess1])\n",
        "    # reveal a door\n",
        "    reveal_door = np.random.choice(list(other_doors))\n",
        "    # switches after reveal\n",
        "    guess2 = min(set(door_num) - set([guess1, reveal_door]))\n",
        "    if guess2 == car:\n",
        "      wins += 1\n",
        "  print(f\"Percentage wins from always switching: {wins / sims: .1%} out of {sims} games\")"
      ],
      "metadata": {
        "id": "y2ClYW4iTz04"
      },
      "execution_count": null,
      "outputs": []
    },
    {
      "cell_type": "code",
      "source": [
        "monty_hall(100)\n",
        "monty_hall(1000)\n",
        "monty_hall(10000)\n",
        "monty_hall(100000)\n",
        "monty_hall(1000000)"
      ],
      "metadata": {
        "colab": {
          "base_uri": "https://localhost:8080/"
        },
        "id": "uiCGe4WMWP1D",
        "outputId": "b9d0566c-e664-49fb-b2bb-1d67f007b372"
      },
      "execution_count": null,
      "outputs": [
        {
          "output_type": "stream",
          "name": "stdout",
          "text": [
            "Percentage wins from always switching:  65.0% out of 100 games\n",
            "Percentage wins from always switching:  64.6% out of 1000 games\n",
            "Percentage wins from always switching:  66.6% out of 10000 games\n",
            "Percentage wins from always switching:  66.5% out of 100000 games\n",
            "Percentage wins from always switching:  66.7% out of 1000000 games\n"
          ]
        }
      ]
    }
  ]
}