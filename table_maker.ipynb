{
  "nbformat": 4,
  "nbformat_minor": 0,
  "metadata": {
    "colab": {
      "provenance": [],
      "authorship_tag": "ABX9TyPpxoY3Mr7f9DvGZieIa7N/"
    },
    "kernelspec": {
      "name": "python3",
      "display_name": "Python 3"
    },
    "language_info": {
      "name": "python"
    }
  },
  "cells": [
    {
      "cell_type": "code",
      "source": [
        "# TABLES PRACTICE: table generator"
      ],
      "metadata": {
        "id": "J4TzB0MHyyGE"
      },
      "execution_count": null,
      "outputs": []
    },
    {
      "cell_type": "code",
      "source": [
        "from datascience import *"
      ],
      "metadata": {
        "id": "mhpZN_c2yulC"
      },
      "execution_count": null,
      "outputs": []
    },
    {
      "cell_type": "code",
      "execution_count": null,
      "metadata": {
        "id": "pHHSRrKPybsG"
      },
      "outputs": [],
      "source": [
        "def make_table() -> Table():\n",
        "    values = []\n",
        "    tbl = Table()\n",
        "\n",
        "    col_header = input(\"Enter text for name of first column: \")\n",
        "    num_data = input(\"Enter positive integer for number of data values: \")\n",
        "    num_data = int(num_data)\n",
        "\n",
        "    if num_data > 0:\n",
        "        i = 0\n",
        "        while i <= num_data:\n",
        "            col_data = input(f\"Enter data for row {i+1}: \")\n",
        "            values.append(col_data)\n",
        "            i += 1\n",
        "    else:\n",
        "        tbl.with_columns(col_header, [])\n",
        "\n",
        "\n",
        "\n",
        "    print(tbl)"
      ]
    },
    {
      "cell_type": "code",
      "source": [
        "def main():\n",
        "  make_table()"
      ],
      "metadata": {
        "id": "h6Pi-qBHyhz9"
      },
      "execution_count": null,
      "outputs": []
    },
    {
      "cell_type": "code",
      "source": [
        "main()"
      ],
      "metadata": {
        "colab": {
          "base_uri": "https://localhost:8080/"
        },
        "id": "quPBYHiSym4y",
        "outputId": "7c1b5ad5-4935-487f-85c7-c105bfb8a256"
      },
      "execution_count": null,
      "outputs": [
        {
          "output_type": "stream",
          "name": "stdout",
          "text": [
            "Enter text for name of first column: robots\n",
            "Enter positive integer for number of data values: 3\n",
            "Enter data for row 1: robbie\n",
            "Enter data for row 2: humanoform\n",
            "Enter data for row 3: n/a\n",
            "Enter data for row 4: bob\n",
            "\n"
          ]
        }
      ]
    }
  ]
}