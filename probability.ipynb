{
  "nbformat": 4,
  "nbformat_minor": 0,
  "metadata": {
    "colab": {
      "provenance": [],
      "authorship_tag": "ABX9TyNXDW5gEDYIrsmBSRhyvI+n"
    },
    "kernelspec": {
      "name": "python3",
      "display_name": "Python 3"
    },
    "language_info": {
      "name": "python"
    }
  },
  "cells": [
    {
      "cell_type": "code",
      "execution_count": null,
      "metadata": {
        "id": "xoalVNNPsW8y"
      },
      "outputs": [],
      "source": [
        "# PROBABILITY NOTES\n",
        "    # Experiment: operation carried out under controlled circumstances\n",
        "    # Chance Experiment: result is not preplanned\n",
        "    # Result: outcome of experiment\n",
        "    # Sample Space: set of all possible reesults\n",
        "        # represent Sample Space using list, Venn diagram, Tree diagram\n",
        "\n",
        "    # Event is any combo of outcome(s)\n",
        "        # use capital letters like A and B for events\n",
        "        # FAIR coin toss: heads = P(H)\n",
        "        # FAIR dice toss: rolling 1 = P(A)...\n",
        "    # Probability = 'long-term relative frequency' of the outcome(s)\n",
        "        # the probable frequency that a result will occur relative to other factors\n",
        "    # Probabilities fall in interval (0, 1), within set of R\n",
        "        # P(A) = 0:  A will never happen\n",
        "        # P(B) = 1:  B will always happen\n",
        "    # Equally-likely: A has equal probability as B\n",
        "        # fair coin toss: P(H) = P(T)\n",
        "        # fair dice toss: P(A) = P(B) = P(C)..."
      ]
    },
    {
      "cell_type": "code",
      "source": [
        "# CALCULATING PROBABILITY\n",
        "    # When all events are equally likely in sample space:\n",
        "        # count number of outcomes for the event\n",
        "        # divide by number total num outcomes in sample space\n",
        "            # tossing fair nickel and dime\n",
        "            # sample space = {HH, HT, TH, TT}, each is an outcome\n",
        "            # P(A) = both heads = subset {HH}\n",
        "                # this is 1 outcome in a total of four\n",
        "                # probability of both heads = 1/4 = .25\n",
        "            # P(B) = one heads, one tails = {HT, TH}\n",
        "                # this is two outcomes in total of four\n",
        "                # probability = 2/4 = .5"
      ],
      "metadata": {
        "id": "4QcgR7K0uKyG"
      },
      "execution_count": null,
      "outputs": []
    },
    {
      "cell_type": "code",
      "source": [
        "# AND/OR PROBABILITY\n",
        "    # Disjunctive OR: outcome is in A or B or both\n",
        "        #     p = t t f f\n",
        "        #     q = t f t f\n",
        "        # p v q = T T T F\n",
        "        # ((p v q) = ((p ^ q) v (~p xor ~q)))\n",
        "    # Conjunctive AND: outcome is in A and B xor none\n",
        "        #     p = t t f f\n",
        "        #     q = t f t f\n",
        "        # p ^ q = T F F F\n",
        "        # ((p ^ q) = ((p ^ q) xor (~p ^ ~q)))"
      ],
      "metadata": {
        "id": "olJOETCwz-n2"
      },
      "execution_count": null,
      "outputs": []
    }
  ]
}